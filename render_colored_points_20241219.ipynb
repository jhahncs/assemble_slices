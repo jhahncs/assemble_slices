{
 "cells": [
  {
   "cell_type": "code",
   "execution_count": null,
   "metadata": {},
   "outputs": [],
   "source": [
    "# Copyright (c) Meta Platforms, Inc. and affiliates. All rights reserved."
   ]
  },
  {
   "cell_type": "markdown",
   "metadata": {},
   "source": [
    "# Render a colored point cloud\n",
    "\n",
    "This tutorial shows how to:\n",
    "- set up a renderer \n",
    "- render the point cloud \n",
    "- vary the rendering settings such as compositing and camera position"
   ]
  },
  {
   "cell_type": "markdown",
   "metadata": {},
   "source": [
    "## Import modules"
   ]
  },
  {
   "cell_type": "markdown",
   "metadata": {},
   "source": [
    "Ensure `torch` and `torchvision` are installed. If `pytorch3d` is not installed, install it using the following cell:"
   ]
  },
  {
   "cell_type": "code",
   "execution_count": null,
   "metadata": {},
   "outputs": [],
   "source": [
    "import os\n",
    "import sys\n",
    "import torch\n",
    "need_pytorch3d=False\n",
    "try:\n",
    "    import pytorch3d\n",
    "except ModuleNotFoundError:\n",
    "    need_pytorch3d=True\n",
    "if need_pytorch3d:\n",
    "    if torch.__version__.startswith(\"2.2.\") and sys.platform.startswith(\"linux\"):\n",
    "        # We try to install PyTorch3D via a released wheel.\n",
    "        pyt_version_str=torch.__version__.split(\"+\")[0].replace(\".\", \"\")\n",
    "        version_str=\"\".join([\n",
    "            f\"py3{sys.version_info.minor}_cu\",\n",
    "            torch.version.cuda.replace(\".\",\"\"),\n",
    "            f\"_pyt{pyt_version_str}\"\n",
    "        ])\n",
    "        !pip install fvcore iopath\n",
    "        !pip install --no-index --no-cache-dir pytorch3d -f https://dl.fbaipublicfiles.com/pytorch3d/packaging/wheels/{version_str}/download.html\n",
    "    else:\n",
    "        # We try to install PyTorch3D from source.\n",
    "        #!pip install 'git+https://github.com/facebookresearch/pytorch3d.git@stable'\n",
    "        print(\"no pytorch3d\")"
   ]
  },
  {
   "cell_type": "code",
   "execution_count": null,
   "metadata": {},
   "outputs": [],
   "source": [
    "import os\n",
    "import torch\n",
    "import torch.nn.functional as F\n",
    "import matplotlib.pyplot as plt\n",
    "\n",
    "# Util function for loading point clouds|\n",
    "import numpy as np\n",
    "\n",
    "# Data structures and functions for rendering\n",
    "from pytorch3d.structures import Pointclouds\n",
    "from pytorch3d.vis.plotly_vis import AxisArgs, plot_batch_individually, plot_scene\n",
    "from pytorch3d.renderer import (\n",
    "    look_at_view_transform,\n",
    "    FoVOrthographicCameras, \n",
    "    PointsRasterizationSettings,\n",
    "    PointsRenderer,\n",
    "    PulsarPointsRenderer,\n",
    "    PointsRasterizer,\n",
    "    AlphaCompositor,\n",
    "    NormWeightedCompositor\n",
    ")"
   ]
  },
  {
   "cell_type": "markdown",
   "metadata": {},
   "source": [
    "### Load a point cloud and corresponding colors\n",
    "\n",
    "Load and create a **Point Cloud** object. \n",
    "\n",
    "**Pointclouds** is a unique datastructure provided in PyTorch3D for working with batches of point clouds of different sizes. "
   ]
  },
  {
   "cell_type": "markdown",
   "metadata": {},
   "source": [
    "If running this notebook using **Google Colab**, run the following cell to fetch the pointcloud data and save it at the path `data/PittsburghBridge`:\n",
    "If running locally, the data is already available at the correct path. "
   ]
  },
  {
   "cell_type": "code",
   "execution_count": null,
   "metadata": {},
   "outputs": [],
   "source": [
    "!mkdir -p /disk2/data/PittsburghBridge\n",
    "!wget -P /disk2/data/PittsburghBridge https://dl.fbaipublicfiles.com/pytorch3d/data/PittsburghBridge/pointcloud.npz"
   ]
  },
  {
   "cell_type": "code",
   "execution_count": null,
   "metadata": {
    "scrolled": true
   },
   "outputs": [],
   "source": [
    "# Setup\n",
    "if torch.cuda.is_available():\n",
    "    device = torch.device(\"cuda:0\")\n",
    "    torch.cuda.set_device(device)\n",
    "else:\n",
    "    device = torch.device(\"cpu\")\n",
    "\n"
   ]
  },
  {
   "cell_type": "code",
   "execution_count": null,
   "metadata": {},
   "outputs": [],
   "source": [
    "color_list = [[84, 107, 45], [178, 0, 0], [135, 206, 234]  ,[239, 196, 15]   ,[216, 112, 214]  ,[255, 127, 79]   ,[0, 127, 127]    ,[237, 58, 130]   ,[196, 237, 0]    ,[0, 0, 127]      ,[137, 53, 15]    ,[112, 127, 142]  ,[178, 127, 209]  ,[255, 216, 178]  ,[127, 127, 0]    ,[53, 68, 79]     ,[183, 75, 107],[70, 72, 107],[180, 123, 95],[137, 66, 70]]\n"
   ]
  },
  {
   "cell_type": "code",
   "execution_count": 180,
   "metadata": {},
   "outputs": [],
   "source": []
  },
  {
   "cell_type": "code",
   "execution_count": 428,
   "metadata": {},
   "outputs": [
    {
     "name": "stdout",
     "output_type": "stream",
     "text": [
      "/disk2/data/shape_dataset/data/shape/ellipsoid/0/ellipsoid_512_128_64_64_3_0_2/piece_12.obj\n",
      "/disk2/data/shape_dataset/data/shape/ellipsoid/0/ellipsoid_512_128_64_64_3_0_2/piece_0.obj\n",
      "/disk2/data/shape_dataset/data/shape/ellipsoid/0/ellipsoid_512_128_64_64_3_0_2/piece_15.obj\n",
      "/disk2/data/shape_dataset/data/shape/ellipsoid/0/ellipsoid_512_128_64_64_3_0_2/piece_17.obj\n",
      "/disk2/data/shape_dataset/data/shape/ellipsoid/0/ellipsoid_512_128_64_64_3_0_2/piece_7.obj\n",
      "/disk2/data/shape_dataset/data/shape/ellipsoid/0/ellipsoid_512_128_64_64_3_0_2/piece_11.obj\n",
      "/disk2/data/shape_dataset/data/shape/ellipsoid/0/ellipsoid_512_128_64_64_3_0_2/piece_14.obj\n",
      "/disk2/data/shape_dataset/data/shape/ellipsoid/0/ellipsoid_512_128_64_64_3_0_2/piece_10.obj\n",
      "/disk2/data/shape_dataset/data/shape/ellipsoid/0/ellipsoid_512_128_64_64_3_0_2/piece_13.obj\n",
      "/disk2/data/shape_dataset/data/shape/ellipsoid/0/ellipsoid_512_128_64_64_3_0_2/piece_5.obj\n",
      "/disk2/data/shape_dataset/data/shape/ellipsoid/0/ellipsoid_512_128_64_64_3_0_2/piece_1.obj\n",
      "/disk2/data/shape_dataset/data/shape/ellipsoid/0/ellipsoid_512_128_64_64_3_0_2/piece_6.obj\n",
      "/disk2/data/shape_dataset/data/shape/ellipsoid/0/ellipsoid_512_128_64_64_3_0_2/piece_16.obj\n",
      "/disk2/data/shape_dataset/data/shape/ellipsoid/0/ellipsoid_512_128_64_64_3_0_2/piece_8.obj\n",
      "/disk2/data/shape_dataset/data/shape/ellipsoid/0/ellipsoid_512_128_64_64_3_0_2/piece_2.obj\n",
      "/disk2/data/shape_dataset/data/shape/ellipsoid/0/ellipsoid_512_128_64_64_3_0_2/piece_4.obj\n",
      "/disk2/data/shape_dataset/data/shape/ellipsoid/0/ellipsoid_512_128_64_64_3_0_2/piece_9.obj\n",
      "/disk2/data/shape_dataset/data/shape/ellipsoid/0/ellipsoid_512_128_64_64_3_0_2/piece_3.obj\n"
     ]
    }
   ],
   "source": [
    "# LOAD from .obj\n",
    "_dir = '/disk2/data/shape_dataset/data/shape/ellipsoid/0/ellipsoid_512_128_64_64_3_0_2'\n",
    "#_dir = '/disk2/data/shape_dataset/data/shape/cube/1/cube_32_16_0_1_0'\n",
    "\n",
    "_files = [_dir+\"/\"+f for f in os.listdir(_dir) if os.path.isfile(_dir+\"/\"+f)]\n",
    "pcs = []\n",
    "verts = []\n",
    "rgbs = []\n",
    "part_id = 0\n",
    "for fname in _files:\n",
    "    with open(fname) as infile:\n",
    "        print(fname)\n",
    "        _lines = infile.readlines()\n",
    "        _part = []\n",
    "        for _l in _lines:\n",
    "            if _l.lower().startswith('v'):\n",
    "                _part.append([float(a) for a in _l[2:].split()])\n",
    "        verts.extend(_part)\n",
    "        pcs.append(_part)\n",
    "        rgbs.extend([color_list[part_id] for _ in range(len(_part))])\n",
    "    part_id += 1\n",
    "\n",
    "verts = torch.Tensor(verts).to(device)\n",
    "rgbs = torch.Tensor(rgbs).to(device)\n",
    "\n",
    "\n",
    "\n",
    "point_cloud = Pointclouds(points=[verts], features=[rgbs])"
   ]
  },
  {
   "cell_type": "code",
   "execution_count": 446,
   "metadata": {},
   "outputs": [
    {
     "name": "stdout",
     "output_type": "stream",
     "text": [
      "[[-0.265537, -0.059322, 0.067797], [-0.268362, -0.056497, 0.067797]]\n",
      "[[-0.265537, -0.059322, 0.090395], [-0.268362, -0.056497, 0.090395]]\n"
     ]
    }
   ],
   "source": []
  },
  {
   "cell_type": "code",
   "execution_count": 432,
   "metadata": {},
   "outputs": [
    {
     "name": "stdout",
     "output_type": "stream",
     "text": [
      "The longest plane is: XY with areas tensor([0.5090, 0.0171, 0.0152])\n"
     ]
    }
   ],
   "source": [
    "import torch\n",
    "\n",
    "def longest_plane_of_point_cloud(point_cloud):\n",
    "    # Ensure the point cloud is a PyTorch tensor\n",
    "    if not isinstance(point_cloud, torch.Tensor):\n",
    "        point_cloud = torch.tensor(point_cloud, dtype=torch.float32)\n",
    "    \n",
    "    # Calculate the bounding box for each plane projection\n",
    "    min_xy, _ = torch.min(point_cloud[:, :2], dim=0)\n",
    "    max_xy, _ = torch.max(point_cloud[:, :2], dim=0)\n",
    "    area_xy = (max_xy[0] - min_xy[0]) * (max_xy[1] - min_xy[1])\n",
    "    \n",
    "    min_xz, _ = torch.min(point_cloud[:, [0, 2]], dim=0)\n",
    "    max_xz, _ = torch.max(point_cloud[:, [0, 2]], dim=0)\n",
    "    area_xz = (max_xz[0] - min_xz[0]) * (max_xz[1] - min_xz[1])\n",
    "    \n",
    "    min_yz, _ = torch.min(point_cloud[:, 1:], dim=0)\n",
    "    max_yz, _ = torch.max(point_cloud[:, 1:], dim=0)\n",
    "    area_yz = (max_yz[0] - min_yz[0]) * (max_yz[1] - min_yz[1])\n",
    "    \n",
    "    # Compare the areas to find the largest plane\n",
    "    areas = torch.tensor([area_xy, area_xz, area_yz])\n",
    "    longest_plane_idx = torch.argmax(areas).item()\n",
    "    \n",
    "    # Plane names for convenience\n",
    "    plane_names = ['XY', 'XZ', 'YZ']\n",
    "    \n",
    "    return plane_names[longest_plane_idx], areas\n",
    "\n",
    "# Example usage\n",
    "# Create a point cloud with random points\n",
    "points = torch.rand((100, 3))  # 100 points with x, y, z coordinates\n",
    "points = pcs[0]\n",
    "# Find the longest plane of the point cloud\n",
    "longest_plane, plane_areas = longest_plane_of_point_cloud(points)\n",
    "\n",
    "print(f\"The longest plane is: {longest_plane} with areas {plane_areas}\")\n"
   ]
  },
  {
   "cell_type": "code",
   "execution_count": 423,
   "metadata": {},
   "outputs": [],
   "source": [
    "max_num_part = 20\n",
    "\n",
    "def _pad_data(data):\n",
    "    \"\"\"Pad data to shape [`self.max_num_part`, data.shape[1], ...].\"\"\"\n",
    "    data = np.array(data)\n",
    "    pad_shape = (max_num_part, ) + tuple(data.shape[1:])\n",
    "    pad_data = np.zeros(pad_shape, dtype=np.float32)\n",
    "    pad_data[:data.shape[0]] = data\n",
    "    return pad_data\n"
   ]
  },
  {
   "cell_type": "code",
   "execution_count": 424,
   "metadata": {
    "scrolled": true
   },
   "outputs": [
    {
     "name": "stdout",
     "output_type": "stream",
     "text": [
      "\n",
      " pc [[-0.265537 -0.059322  0.067797]\n",
      " [-0.268362 -0.056497  0.067797]\n",
      " [-0.265537 -0.059322  0.073446]\n",
      " [-0.268362 -0.056497  0.073446]\n",
      " [-0.268362 -0.050847  0.067797]]\n",
      "rot_mat [[ 0.69441025 -0.23885461 -0.67878043]\n",
      " [-0.58805903 -0.73201165 -0.34401384]\n",
      " [-0.41470589  0.6380497  -0.648777  ]]\n",
      "pc.T [[-0.265537 -0.268362 -0.265537 -0.268362 -0.268362]\n",
      " [-0.059322 -0.056497 -0.059322 -0.056497 -0.050847]\n",
      " [ 0.067797  0.067797  0.073446  0.073446  0.067797]]\n",
      "rot_mat @ pc.T [[-0.21624155 -0.21887802 -0.22007598 -0.22271245 -0.22022755]\n",
      " [ 0.17625272  0.17584605  0.17430938  0.17390271  0.17171018]\n",
      " [ 0.02828424  0.03125827  0.0246193   0.02759333  0.03486325]]\n",
      "pc [[-0.21624155  0.17625272  0.02828424]\n",
      " [-0.21887802  0.17584605  0.03125827]\n",
      " [-0.22007598  0.17430938  0.0246193 ]\n",
      " [-0.22271245  0.17390271  0.02759333]\n",
      " [-0.22022755  0.17171018  0.03486325]]\n",
      "quat_gt [ 0.87681225 -0.23577272 -0.31177893 -0.28000964]\n",
      "quat_gt [-0.28000964  0.87681225 -0.23577272 -0.31177893]\n",
      "\n",
      " pc [[-0.268362 -0.050847  0.073446]\n",
      " [-0.268362 -0.045198  0.067797]\n",
      " [-0.268362 -0.045198  0.073446]\n",
      " [-0.268362 -0.039548  0.067797]\n",
      " [-0.268362 -0.039548  0.073446]]\n",
      "rot_mat [[ 0.90866962  0.41087733  0.07415748]\n",
      " [-0.41035048  0.84611007  0.34016207]\n",
      " [ 0.07701949 -0.3395255   0.93743823]]\n",
      "pc.T [[-0.268362 -0.268362 -0.268362 -0.268362 -0.268362]\n",
      " [-0.050847 -0.045198 -0.045198 -0.039548 -0.039548]\n",
      " [ 0.073446  0.067797  0.073446  0.067797  0.073446]]\n",
      "rot_mat @ pc.T [[-0.25929769 -0.25739556 -0.25697665 -0.25507411 -0.25465519]\n",
      " [ 0.09208385  0.09494195  0.09686353  0.09972248  0.10164405]\n",
      " [ 0.06544584  0.05823227  0.06352786  0.05631395  0.06160954]]\n",
      "pc [[-0.25929769  0.09208385  0.06544584]\n",
      " [-0.25739556  0.09494195  0.05823227]\n",
      " [-0.25697665  0.09686353  0.06352786]\n",
      " [-0.25507411  0.09972248  0.05631395]\n",
      " [-0.25465519  0.10164405  0.06160954]]\n",
      "quat_gt [1.76862462e-01 7.44727052e-04 2.13692848e-01 9.60757244e-01]\n",
      "quat_gt [9.60757244e-01 1.76862462e-01 7.44727052e-04 2.13692848e-01]\n",
      "cur_pts [array([[-0.21624155,  0.17625272,  0.02828424],\n",
      "       [-0.21887802,  0.17584605,  0.03125827],\n",
      "       [-0.22007598,  0.17430938,  0.0246193 ],\n",
      "       [-0.22271245,  0.17390271,  0.02759333],\n",
      "       [-0.22022755,  0.17171018,  0.03486325]]), array([[-0.25929769,  0.09208385,  0.06544584],\n",
      "       [-0.25739556,  0.09494195,  0.05823227],\n",
      "       [-0.25697665,  0.09686353,  0.06352786],\n",
      "       [-0.25507411,  0.09972248,  0.05631395],\n",
      "       [-0.25465519,  0.10164405,  0.06160954]])]\n",
      "cur_pts (20, 5, 3)\n",
      "scale [[[0.8840316]]\n",
      "\n",
      " [[0.9138251]]\n",
      "\n",
      " [[1.       ]]\n",
      "\n",
      " [[1.       ]]\n",
      "\n",
      " [[1.       ]]\n",
      "\n",
      " [[1.       ]]\n",
      "\n",
      " [[1.       ]]\n",
      "\n",
      " [[1.       ]]\n",
      "\n",
      " [[1.       ]]\n",
      "\n",
      " [[1.       ]]\n",
      "\n",
      " [[1.       ]]\n",
      "\n",
      " [[1.       ]]\n",
      "\n",
      " [[1.       ]]\n",
      "\n",
      " [[1.       ]]\n",
      "\n",
      " [[1.       ]]\n",
      "\n",
      " [[1.       ]]\n",
      "\n",
      " [[1.       ]]\n",
      "\n",
      " [[1.       ]]\n",
      "\n",
      " [[1.       ]]\n",
      "\n",
      " [[1.       ]]]\n"
     ]
    }
   ],
   "source": [
    "from scipy.spatial.transform import Rotation as R\n",
    "\n",
    "pc1 = verts[:5].cpu().numpy()\n",
    "pc2 = verts[5:10].cpu().numpy()\n",
    "\n",
    "\n",
    "cur_pts = []\n",
    "\n",
    "for pc in [pc1, pc2]:\n",
    "    print(\"\\n\",'pc',pc)\n",
    "    rot_mat = R.random().as_matrix()\n",
    "    print('rot_mat',rot_mat)\n",
    "    print('pc.T',pc.T)\n",
    "    print('rot_mat @ pc.T', rot_mat @ pc.T)\n",
    "    pc = (rot_mat @ pc.T).T\n",
    "    print('pc',pc)\n",
    "    #print(pc.shape)\n",
    "    \n",
    "    quat_gt = R.from_matrix(rot_mat.T).as_quat()\n",
    "    print('quat_gt',quat_gt)\n",
    "    # we use scalar-first quaternion\n",
    "    quat_gt = quat_gt[[3, 0, 1, 2]]\n",
    "    print('quat_gt',quat_gt)\n",
    "    cur_pts.append(pc)\n",
    "\n",
    "\n",
    "print('cur_pts',cur_pts)\n",
    "cur_pts = _pad_data(np.stack(cur_pts, axis=0))  # [P, N, 3]\n",
    "print('cur_pts',cur_pts.shape)\n",
    "#scale = np.max(np.abs(cur_pts), axis=(1,2), keepdims=True)\n",
    "print('scale',scale)\n",
    "#scale[scale == 0] = 1\n",
    "#cur_pts = cur_pts / scale\n",
    "\n"
   ]
  },
  {
   "cell_type": "code",
   "execution_count": 480,
   "metadata": {},
   "outputs": [
    {
     "data": {
      "text/plain": [
       "array([[ 2.22044605e-16, -1.00000000e+00,  0.00000000e+00],\n",
       "       [ 1.00000000e+00,  2.22044605e-16,  0.00000000e+00],\n",
       "       [ 0.00000000e+00,  0.00000000e+00,  1.00000000e+00]])"
      ]
     },
     "execution_count": 480,
     "metadata": {},
     "output_type": "execute_result"
    }
   ],
   "source": [
    "import scipy\n",
    "scipy.spatial.transform.Rotation.from_rotvec(np.pi/2 * np.array([0, 0, 1])).as_matrix()"
   ]
  },
  {
   "cell_type": "code",
   "execution_count": 649,
   "metadata": {},
   "outputs": [
    {
     "name": "stdout",
     "output_type": "stream",
     "text": [
      "(20, 1000, 3)\n"
     ]
    }
   ],
   "source": [
    "# LOAD from .npz\n",
    "# Set paths\n",
    "\n",
    "from scipy.spatial.transform import Rotation as R\n",
    "DATA_DIR = \"/disk2/data/shape_dataset/data/test_data/\"\n",
    "#obj_filename = os.path.join(DATA_DIR, \"PittsburghBridge/pointcloud.npz\")\n",
    "obj_filename = os.path.join(DATA_DIR, \"100_rt.npz\")\n",
    "# Load point cloud\n",
    "pointcloud = np.load(obj_filename)\n",
    "#print(pointcloud)\n",
    "\n",
    "color_list = [[84, 107, 45], [178, 0, 0], [135, 206, 234]  ,[239, 196, 15]   ,[216, 112, 214]  ,[255, 127, 79]   ,[0, 127, 127]    ,[237, 58, 130]   ,[196, 237, 0]    ,[0, 0, 127]      ,[137, 53, 15]    ,[112, 127, 142]  ,[178, 127, 209]  ,[255, 216, 178]  ,[127, 127, 0]    ,[53, 68, 79]     ,[183, 75, 107],[70, 72, 107],[180, 123, 95],[137, 66, 70]]\n",
    "\n",
    "verts = []\n",
    "rgbs = []\n",
    "print(pointcloud['arr_0'].shape)\n",
    "for part_id in range(pointcloud['arr_0'].shape[0]):\n",
    "    _part = (pointcloud['arr_0'][part_id])\n",
    "    _part = np.array([list(a) for a in _part])\n",
    "\n",
    "    #rot_mat = scipy.spatial.transform.Rotation.random().as_matrix()\n",
    "    rot_mat = scipy.spatial.transform.Rotation.from_rotvec(np.pi/2 * np.array([0, 0, 1])).as_matrix()\n",
    "    _part = (rot_mat @ _part.T).T\n",
    "\n",
    "    #for _p  in _part:\n",
    "    #    _p[2] = 0\n",
    "    verts.extend(_part)\n",
    "    rgbs.extend([color_list[part_id] for _ in range(len(_part))])\n",
    "#verts = torch.Tensor(pointcloud['verts']).to(device)\n",
    "#verts = torch.Tensor(pointcloud['arr_0']).to(device)\n",
    "verts = torch.Tensor(verts).to(device)\n",
    "rgbs = torch.Tensor(rgbs).to(device)\n",
    "point_cloud = Pointclouds(points=[verts], features=[rgbs])"
   ]
  },
  {
   "cell_type": "markdown",
   "metadata": {},
   "source": [
    "## Create a renderer\n",
    "\n",
    "A renderer in PyTorch3D is composed of a **rasterizer** and a **shader** which each have a number of subcomponents such as a **camera** (orthographic/perspective). Here we initialize some of these components and use default values for the rest.\n",
    "\n",
    "In this example we will first create a **renderer** which uses an **orthographic camera**, and applies **alpha compositing**. Then we learn how to vary different components using the modular API.  \n",
    "\n",
    "[1] <a href=\"https://arxiv.org/abs/1912.08804\">SynSin: End to end View Synthesis from a Single Image.</a> Olivia Wiles, Georgia Gkioxari, Richard Szeliski, Justin Johnson. CVPR 2020."
   ]
  },
  {
   "cell_type": "code",
   "execution_count": 650,
   "metadata": {},
   "outputs": [
    {
     "name": "stdout",
     "output_type": "stream",
     "text": [
      "tensor([[[-0.9848, -0.1330, -0.1116],\n",
      "         [ 0.0000,  0.6428, -0.7660],\n",
      "         [ 0.1736, -0.7544, -0.6330]]])\n",
      "tensor([[-0.0000e+00, -1.9073e-06,  5.0000e+01]])\n"
     ]
    }
   ],
   "source": [
    "from pytorch3d.renderer.mesh.shader import HardPhongShader\n",
    "# Initialize a camera.\n",
    "#R, T = look_at_view_transform(20, 10, 0)\n",
    "R, T = look_at_view_transform(dist=50, elev=50,azim=10)\n",
    "\n",
    "#An azimuth is the horizontal angle from a cardinal direction, most commonly north\n",
    "\n",
    "print(R)\n",
    "print(T)\n",
    "cameras = FoVOrthographicCameras(device=device, R=R, T=T, znear=50)\n",
    "\n",
    "# Define the settings for rasterization and shading. Here we set the output image to be of size\n",
    "# 512x512. As we are rendering images for visualization purposes only we will set faces_per_pixel=1\n",
    "# and blur_radius=0.0. Refer to raster_points.py for explanations of these parameters. \n",
    "raster_settings = PointsRasterizationSettings(\n",
    "    image_size=512, \n",
    "    radius = 0.001,\n",
    "    points_per_pixel = 10\n",
    ")\n",
    "\n",
    "\n",
    "# Create a points renderer by compositing points using an alpha compositor (nearer points\n",
    "# are weighted more heavily). See [1] for an explanation.\n",
    "rasterizer = PointsRasterizer(cameras=cameras, raster_settings=raster_settings)\n",
    "renderer = PointsRenderer(\n",
    "    rasterizer=rasterizer\n",
    "    ,compositor=AlphaCompositor()\n",
    "    #,shader=HardPhongShader(device=device, cameras=cameras)\n",
    ")"
   ]
  },
  {
   "cell_type": "code",
   "execution_count": 651,
   "metadata": {},
   "outputs": [
    {
     "name": "stderr",
     "output_type": "stream",
     "text": [
      "Clipping input data to the valid range for imshow with RGB data ([0..1] for floats or [0..255] for integers). Got range [0.0..254.71825].\n"
     ]
    },
    {
     "data": {
      "image/png": "[encoded data removed]",
      "text/plain": [
       "<Figure size 1000x1000 with 1 Axes>"
      ]
     },
     "metadata": {},
     "output_type": "display_data"
    }
   ],
   "source": [
    "images = renderer(point_cloud)\n",
    "plt.figure(figsize=(10, 10))\n",
    "plt.imshow(images[0, ..., :3].cpu().numpy())\n",
    "plt.axis(\"off\");"
   ]
  },
  {
   "cell_type": "code",
   "execution_count": 3,
   "metadata": {},
   "outputs": [
    {
     "name": "stdout",
     "output_type": "stream",
     "text": [
      "[ 0.70723194  0.7069816  -0.        ]\n",
      "[ 9.00885161e-18 -1.53493170e-19  1.00000000e+00]\n",
      "[-0.432203 -0.155367 -0.20339 ]\n",
      "[-0.087571  0.155367 -0.180791]\n",
      "[0.54033698 0.66473106 0.14391133]\n",
      "[0.88496898 0.68733006 0.45464533]\n",
      "[0.97253998 0.86812106 0.29927833]\n",
      "[ 7.07106781e-01 -7.07106781e-01  0.00000000e+00  6.37022007e-18]\n",
      "[-2.53689231e-01 -3.83192648e-19 -1.92090400e-01]\n"
     ]
    }
   ],
   "source": [
    "import jahn_src.myutil\n",
    "import importlib\n",
    "importlib.reload(jahn_src.myutil)\n",
    "from jahn_src.myutil import *\n",
    "import os\n",
    "\n",
    "_dir = '/disk2/data/shape_dataset/data/shape/ellipsoid/0/ellipsoid_512_128_64_64_3_0_2'\n",
    "#_dir = '/disk2/data/shape_dataset/data/shape/cube/1/cube_32_16_0_1_0'\n",
    "files = [_dir+\"/\"+f for f in os.listdir(_dir) if os.path.isfile(_dir+\"/\"+f)]\n",
    "\n",
    "#rot_mat = scipy.spatial.transform.Rotation.from_rotvec(np.pi/2 * np.array([0, 0, 1])).as_matrix()\n",
    "\n",
    "\n",
    "pcs = []\n",
    "for fname in files:    \n",
    "    \n",
    "    with open(fname) as infile:     \n",
    "        _pcs = []\n",
    "        for line in infile:\n",
    "            if line.lower().startswith('v'):\n",
    "                _arr = line[2:].split()\n",
    "                _arr = np.array([float(a) for a in _arr])                    \n",
    "                _pcs.append(_arr)\n",
    "        _pcs = np.array(_pcs)\n",
    "    pcs.append(_pcs)\n",
    "\n",
    "_pcs = pcs[1]\n",
    "\n",
    "points = get_plane(_pcs)\n",
    "normal_vector = calculate_normal_vector(points[0],points[1],points[2])\n",
    "print(normal_vector/ np.linalg.norm(normal_vector))\n",
    "\n",
    "normal_vector = calculate_normal_vector_open3d(_pcs)\n",
    "print(normal_vector/ np.linalg.norm(normal_vector))\n",
    "\n",
    "print(np.min(_pcs, axis=0))\n",
    "print(np.max(_pcs, axis=0))\n",
    "rotated_points, translation_vector, quat_gt = rotate_and_translate_to_xy_plane(_pcs, normal_vector)\n",
    "\n",
    "print(np.min(rotated_points, axis=0))\n",
    "print(np.max(rotated_points, axis=0))\n",
    "print(translation_vector)\n",
    "print(quat_gt)\n",
    "print(np.mean(_pcs, axis=0))\n"
   ]
  },
  {
   "cell_type": "code",
   "execution_count": 634,
   "metadata": {},
   "outputs": [
    {
     "name": "stdout",
     "output_type": "stream",
     "text": [
      "[0, 3500, 1640, 2600, 1160, 3800, 3680, 2980, 3760, 3280, 3580, 2320, 3700, 2060, 3820, 2780, 3400, 3820, 3140]\n"
     ]
    }
   ],
   "source": [
    "_dir = '/disk2/data/shape_dataset/data/shape/ellipsoid/0/ellipsoid_512_128_64_64_3_0_2'\n",
    "_dir = '/disk2/data/shape_dataset/data/shape/ellipsoid/0/ellipsoid_512_128_64_64_0_1_0'\n",
    "#_dir = '/disk2/data/shape_dataset/data/shape/cube/1/cube_32_16_0_1_0'\n",
    "files = [_dir+\"/\"+f for f in os.listdir(_dir) if os.path.isfile(_dir+\"/\"+f)]\n",
    "\n",
    "#rot_mat = scipy.spatial.transform.Rotation.from_rotvec(np.pi/2 * np.array([0, 0, 1])).as_matrix()\n",
    "\n",
    "f_2_last = []\n",
    "with open('ellipsoid_.obj', 'w') as outfile:\n",
    "\n",
    "    f_2_last.append(0)\n",
    "    for fname in files:\n",
    "        \n",
    "        _c = 0\n",
    "        with open(fname) as infile:\n",
    "            _pcs = []\n",
    "            for line in infile:\n",
    "                if line.lower().startswith('v'):\n",
    "                    _c += 1\n",
    "                    _arr = line[2:].split()\n",
    "                    _arr = np.array([float(a) for a in _arr])                    \n",
    "                    _pcs.append(_arr)\n",
    "\n",
    "            _pcs = np.array(_pcs)\n",
    "            normal_vector = calculate_normal_vector_open3d(_pcs)\n",
    "            _pcs = rotate_and_translate_to_xy_plane(_pcs, normal_vector)\n",
    "            for _arr in _pcs:\n",
    "                outfile.write(f'v {_arr[0]} {_arr[1]} {_arr[2]}\\n')\n",
    "                  \n",
    "        \n",
    "\n",
    "        f_2_last.append(_c)\n",
    "    print(f_2_last)\n",
    "    _delta = 0\n",
    "    for fi, fname in enumerate(files):\n",
    "        _delta += f_2_last[fi]\n",
    "        with open(fname) as infile:\n",
    "            for line in infile:\n",
    "                if line.lower().startswith('f'):\n",
    "                    _arr = line[2:].split()\n",
    "                    outfile.write(f'f {int(_arr[0])+_delta} {int(_arr[1])+_delta} {int(_arr[2])+_delta}\\n')"
   ]
  },
  {
   "cell_type": "code",
   "execution_count": null,
   "metadata": {},
   "outputs": [],
   "source": []
  },
  {
   "cell_type": "code",
   "execution_count": null,
   "metadata": {},
   "outputs": [],
   "source": []
  },
  {
   "cell_type": "code",
   "execution_count": null,
   "metadata": {},
   "outputs": [],
   "source": []
  },
  {
   "cell_type": "code",
   "execution_count": null,
   "metadata": {},
   "outputs": [],
   "source": []
  },
  {
   "cell_type": "code",
   "execution_count": null,
   "metadata": {},
   "outputs": [],
   "source": []
  },
  {
   "cell_type": "code",
   "execution_count": null,
   "metadata": {},
   "outputs": [],
   "source": []
  },
  {
   "cell_type": "code",
   "execution_count": null,
   "metadata": {},
   "outputs": [],
   "source": []
  },
  {
   "cell_type": "code",
   "execution_count": null,
   "metadata": {},
   "outputs": [],
   "source": []
  },
  {
   "cell_type": "code",
   "execution_count": null,
   "metadata": {},
   "outputs": [],
   "source": [
    "mesh = pytorch3d.io.load_objs_as_meshes(['file.obj'])\n",
    "mesh"
   ]
  },
  {
   "cell_type": "code",
   "execution_count": null,
   "metadata": {},
   "outputs": [],
   "source": [
    "mesh.extend(num_views)"
   ]
  },
  {
   "cell_type": "code",
   "execution_count": 187,
   "metadata": {},
   "outputs": [],
   "source": [
    "import imageio\n",
    "num_views = 30\n",
    "R, T = pytorch3d.renderer.look_at_view_transform(\n",
    "    dist=3,\n",
    "    elev=0,\n",
    "    azim=np.linspace(-180, 180, num_views, endpoint=False),\n",
    ")\n",
    "\n",
    "many_cameras = pytorch3d.renderer.FoVPerspectiveCameras(\n",
    "    R=R,\n",
    "    T=T,\n",
    "    device=device\n",
    ")\n",
    "light = pytorch3d.renderer.PointLights(location=[[0, 0, -3]], device=device)\n",
    "_images = renderer(point_cloud.extend(num_views), cameras=many_cameras, lights = light)[:,:,:,0:3]\n",
    "_images = np.array(_images.cpu()) * 255\n",
    "_images = _images.astype(np.uint8)\n",
    "imageio.mimsave(\"360_degree_cow.gif\", list(_images), fps=10)\n"
   ]
  },
  {
   "cell_type": "markdown",
   "metadata": {},
   "source": [
    "We will now modify the **renderer** to use **alpha compositing** with a set background color. "
   ]
  },
  {
   "cell_type": "code",
   "execution_count": null,
   "metadata": {},
   "outputs": [],
   "source": [
    "renderer = PointsRenderer(\n",
    "    rasterizer=rasterizer,\n",
    "    # Pass in background_color to the alpha compositor, setting the background color \n",
    "    # to the 3 item tuple, representing rgb on a scale of 0 -> 1, in this case blue\n",
    "    compositor=AlphaCompositor(background_color=(0, 0, 1))\n",
    ")\n",
    "images = renderer(point_cloud)\n",
    "\n",
    "plt.figure(figsize=(10, 10))\n",
    "plt.imshow(images[0, ..., :3].cpu().numpy())\n",
    "plt.axis(\"off\");"
   ]
  },
  {
   "cell_type": "markdown",
   "metadata": {},
   "source": [
    "In this example we will first create a **renderer** which uses an **orthographic camera**, and applies **weighted compositing**. "
   ]
  },
  {
   "cell_type": "code",
   "execution_count": null,
   "metadata": {},
   "outputs": [],
   "source": [
    "# Initialize a camera.\n",
    "R, T = look_at_view_transform(20, 10, 0)\n",
    "cameras = FoVOrthographicCameras(device=device, R=R, T=T, znear=0.01)\n",
    "\n",
    "# Define the settings for rasterization and shading. Here we set the output image to be of size\n",
    "# 512x512. As we are rendering images for visualization purposes only we will set faces_per_pixel=1\n",
    "# and blur_radius=0.0. Refer to rasterize_points.py for explanations of these parameters. \n",
    "raster_settings = PointsRasterizationSettings(\n",
    "    image_size=512, \n",
    "    radius = 0.003,\n",
    "    points_per_pixel = 10\n",
    ")\n",
    "\n",
    "\n",
    "# Create a points renderer by compositing points using an weighted compositor (3D points are\n",
    "# weighted according to their distance to a pixel and accumulated using a weighted sum)\n",
    "renderer = PointsRenderer(\n",
    "    rasterizer=PointsRasterizer(cameras=cameras, raster_settings=raster_settings),\n",
    "    compositor=NormWeightedCompositor()\n",
    ")\n"
   ]
  },
  {
   "cell_type": "code",
   "execution_count": null,
   "metadata": {},
   "outputs": [],
   "source": [
    "images = renderer(point_cloud)\n",
    "plt.figure(figsize=(10, 10))\n",
    "plt.imshow(images[0, ..., :3].cpu().numpy())\n",
    "plt.axis(\"off\");"
   ]
  },
  {
   "cell_type": "markdown",
   "metadata": {},
   "source": [
    "We will now modify the **renderer** to use **weighted compositing** with a set background color. "
   ]
  },
  {
   "cell_type": "code",
   "execution_count": null,
   "metadata": {},
   "outputs": [],
   "source": [
    "renderer = PointsRenderer(\n",
    "    rasterizer=PointsRasterizer(cameras=cameras, raster_settings=raster_settings),\n",
    "    # Pass in background_color to the norm weighted compositor, setting the background color \n",
    "    # to the 3 item tuple, representing rgb on a scale of 0 -> 1, in this case red\n",
    "    compositor=NormWeightedCompositor(background_color=(1,0,0))\n",
    ")\n",
    "images = renderer(point_cloud)\n",
    "plt.figure(figsize=(10, 10))\n",
    "plt.imshow(images[0, ..., :3].cpu().numpy())\n",
    "plt.axis(\"off\");"
   ]
  },
  {
   "cell_type": "markdown",
   "metadata": {},
   "source": [
    "## Using the pulsar backend\n",
    "\n",
    "Switching to the pulsar backend is easy! The pulsar backend has a compositor built-in, so the `compositor` argument is not required when creating it (a warning will be displayed if you provide it nevertheless). It pre-allocates memory on the rendering device, that's why it needs the `n_channels` at construction time.\n",
    "\n",
    "All parameters for the renderer forward function are batch-wise except the background color (in this example, `gamma`) and you have to provide as many values as you have examples in your batch. The background color is optional and by default set to all zeros. You can find a detailed explanation of how gamma influences the rendering function here in the paper [Fast Differentiable Raycasting for Neural Rendering using\n",
    "Sphere-based Representations](https://arxiv.org/pdf/2004.07484.pdf).\n",
    "\n",
    "You can also use the `native` backend for the pulsar backend which already provides access to point opacity. The native backend can be imported from `pytorch3d.renderer.points.pulsar`; you can find examples for this in the folder `docs/examples`."
   ]
  },
  {
   "cell_type": "code",
   "execution_count": null,
   "metadata": {},
   "outputs": [],
   "source": [
    "renderer = PulsarPointsRenderer(\n",
    "    rasterizer=PointsRasterizer(cameras=cameras, raster_settings=raster_settings),\n",
    "    n_channels=4\n",
    ").to(device)\n",
    "\n",
    "images = renderer(point_cloud, gamma=(1e-4,),\n",
    "                  bg_col=torch.tensor([0.0, 1.0, 0.0, 1.0], dtype=torch.float32, device=device))\n",
    "plt.figure(figsize=(10, 10))\n",
    "plt.imshow(images[0, ..., :3].cpu().numpy())\n",
    "plt.axis(\"off\");"
   ]
  },
  {
   "cell_type": "markdown",
   "metadata": {},
   "source": [
    "### View pointclouds in Plotly figures\n",
    "\n",
    "Here we use the PyTorch3D function `plot_scene` to render the pointcloud in a Plotly figure. `plot_scene` returns a plotly figure with trace and subplots defined by the input."
   ]
  },
  {
   "cell_type": "code",
   "execution_count": null,
   "metadata": {},
   "outputs": [],
   "source": [
    "plot_scene({\n",
    "    \"Pointcloud\": {\n",
    "        \"person\": point_cloud\n",
    "    }\n",
    "})"
   ]
  },
  {
   "cell_type": "markdown",
   "metadata": {},
   "source": [
    "We will now render a batch of pointclouds. The first pointcloud is the same as above, and the second is all-black and offset by 2 in all dimensions so we can see them on the same plot. "
   ]
  },
  {
   "cell_type": "code",
   "execution_count": null,
   "metadata": {},
   "outputs": [],
   "source": [
    "point_cloud_batch = Pointclouds(points=[verts, verts + 2], features=[rgb, torch.zeros_like(rgb)])\n",
    "# render both in the same plot in different traces\n",
    "fig = plot_scene({\n",
    "    \"Pointcloud\": {\n",
    "        \"person\": point_cloud_batch[0],\n",
    "        \"person2\": point_cloud_batch[1]\n",
    "    }\n",
    "})\n",
    "fig.show()"
   ]
  },
  {
   "cell_type": "code",
   "execution_count": null,
   "metadata": {},
   "outputs": [],
   "source": [
    "# render both in the same plot in one trace\n",
    "fig = plot_scene({\n",
    "    \"Pointcloud\": {\n",
    "        \"2 people\": point_cloud_batch\n",
    "    }\n",
    "})\n",
    "fig.show()"
   ]
  },
  {
   "cell_type": "markdown",
   "metadata": {},
   "source": [
    "For batches, we can also use `plot_batch_individually` to avoid constructing the scene dictionary ourselves."
   ]
  },
  {
   "cell_type": "code",
   "execution_count": null,
   "metadata": {},
   "outputs": [],
   "source": [
    "# render both in 1 row in different subplots\n",
    "fig2 = plot_batch_individually(point_cloud_batch, ncols=2)\n",
    "fig2.show()"
   ]
  },
  {
   "cell_type": "code",
   "execution_count": null,
   "metadata": {},
   "outputs": [],
   "source": [
    "# modify the plotly figure height and width\n",
    "fig2.update_layout(height=500, width=500)\n",
    "fig2.show()"
   ]
  },
  {
   "cell_type": "markdown",
   "metadata": {},
   "source": [
    "We can also modify the axis arguments and axis backgrounds for either function, and title our plots in `plot_batch_individually`."
   ]
  },
  {
   "cell_type": "code",
   "execution_count": null,
   "metadata": {},
   "outputs": [],
   "source": [
    "fig3 = plot_batch_individually(\n",
    "    point_cloud_batch, \n",
    "    xaxis={\"backgroundcolor\":\"rgb(200, 200, 230)\"},\n",
    "    yaxis={\"backgroundcolor\":\"rgb(230, 200, 200)\"},\n",
    "    zaxis={\"backgroundcolor\":\"rgb(200, 230, 200)\"}, \n",
    "    subplot_titles=[\"Pointcloud1\", \"Pointcloud2\"], # this should have a title for each subplot, titles can be \"\"\n",
    "    axis_args=AxisArgs(showgrid=True))\n",
    "fig3.show()"
   ]
  }
 ],
 "metadata": {
  "bento_stylesheets": {
   "bento/extensions/flow/main.css": true,
   "bento/extensions/kernel_selector/main.css": true,
   "bento/extensions/kernel_ui/main.css": true,
   "bento/extensions/new_kernel/main.css": true,
   "bento/extensions/system_usage/main.css": true,
   "bento/extensions/theme/main.css": true
  },
  "kernelspec": {
   "display_name": "puzzle",
   "language": "python",
   "name": "puzzle"
  },
  "language_info": {
   "codemirror_mode": {
    "name": "ipython",
    "version": 3
   },
   "file_extension": ".py",
   "mimetype": "text/x-python",
   "name": "python",
   "nbconvert_exporter": "python",
   "pygments_lexer": "ipython3",
   "version": "3.11.4"
  }
 },
 "nbformat": 4,
 "nbformat_minor": 4
}
