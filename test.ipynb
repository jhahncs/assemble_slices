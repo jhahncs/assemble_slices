{
 "cells": [
  {
   "cell_type": "code",
   "execution_count": 1,
   "id": "50bf9d62-cb36-4c3c-8064-ec16e68642b4",
   "metadata": {},
   "outputs": [],
   "source": [
    "import os\n",
    "import hydra\n",
    "import pytorch_lightning as pl\n",
    "import torch\n",
    "#from puzzlefusion_plusplus.auto_aggl import AutoAgglomerative\n",
    "from omegaconf import OmegaConf,open_dict\n",
    "import omegaconf\n",
    "\n"
   ]
  },
  {
   "cell_type": "code",
   "execution_count": 2,
   "id": "94e3f0c3-8916-4488-b771-cfc57a075adf",
   "metadata": {},
   "outputs": [],
   "source": [
    "cfg_auto_aggl = omegaconf.OmegaConf.load('config/auto_aggl.yaml')\n",
    "cfg_denoiser_data = omegaconf.OmegaConf.load('config/denoiser/data.yaml')\n",
    "cfg_denoiser_encode = omegaconf.OmegaConf.load('config/denoiser/encoder.yaml')\n",
    "cfg_denoiser_global_config = omegaconf.OmegaConf.load('config/denoiser/global_config.yaml')\n",
    "cfg_denoiser_model = omegaconf.OmegaConf.load('config/denoiser/model.yaml')\n",
    "\n",
    "cfg_ae_vq_vae = omegaconf.OmegaConf.load('config/ae/vq_vae.yaml')\n",
    "cfg_ae_global_config = omegaconf.OmegaConf.load('config/ae/global_config.yaml')\n",
    "cfg_ae_model = omegaconf.OmegaConf.load('config/ae/model.yaml')\n",
    "\n",
    "\n",
    "cfg = OmegaConf.merge(\n",
    "    cfg_auto_aggl,\n",
    "    {\"denoiser\": cfg_denoiser_data},\n",
    "    {\"denoiser\": cfg_denoiser_encode},\n",
    "    {\"denoiser\": cfg_denoiser_global_config},\n",
    "    {\"denoiser\": cfg_denoiser_model},\n",
    "    {\"ae\": cfg_ae_vq_vae},\n",
    "    {\"ae\": cfg_ae_global_config},\n",
    "    {\"ae\": cfg_ae_model},\n",
    "    #{\"verifier\": omegaconf.OmegaConf.load('config/verifier/global_config.yaml')},\n",
    "    #{\"verifier\": omegaconf.OmegaConf.load('config/verifier/model.yaml')},\n",
    ")"
   ]
  },
  {
   "cell_type": "code",
   "execution_count": 3,
   "id": "c8a45e32-7536-41b0-b9b2-f1a127492c2f",
   "metadata": {},
   "outputs": [],
   "source": [
    "\n",
    "data_home_dir = '/data/jhahn/data/shape_dataset/'\n",
    "data_type_name = 'shape'\n",
    "\n",
    "with open_dict(cfg):\n",
    "    cfg.experiment_output_path = data_home_dir+'experiment_output/'\n",
    "    cfg.denoiser.data.data_val_dir=f'{data_home_dir}/pc_data/{data_type_name}/val/'\n",
    "    #cfg.denoiser.ckpt_path= data_home_dir+f'output/denoiser/everyday_epoch100_bs64/training/last.ckpt'\n",
    "    cfg.denoiser.ckpt_path= data_home_dir+f'output/denoiser/shape_epoch10/training/last.ckpt'\n",
    "    cfg.inference_dir= data_home_dir+'results'\n",
    "    cfg.denoiser.data.val_batch_size=1\n",
    "    #cfg.verifier.ckpt_path= '/disk2/data/breaking-bad-dataset/output/verifier/everyday_epoch100_bs64/training/last.ckpt'\n",
    "\n",
    "#print(OmegaConf.to_yaml(cfg))\n",
    "#print(cfg.experiment_output_path)"
   ]
  },
  {
   "cell_type": "code",
   "execution_count": 4,
   "id": "9dfab6b8-7490-4f57-85f4-cb9dd550679b",
   "metadata": {},
   "outputs": [
    {
     "name": "stderr",
     "output_type": "stream",
     "text": [
      "Seed set to 123\n",
      "100%|██████████| 10/10 [00:00<00:00, 973.79it/s]\n"
     ]
    }
   ],
   "source": [
    "# fix the seed\n",
    "pl.seed_everything(cfg.test_seed, workers=True)\n",
    "\n",
    "# create directories for inference outputs\n",
    "inference_dir = os.path.join(cfg.experiment_output_path, \"inference\", cfg.inference_dir)\n",
    "os.makedirs(inference_dir, exist_ok=True)\n",
    "\n",
    "# initialize data\n",
    "from jahn_src.data_loader_jhahn import build_test_dataloader\n",
    "\n",
    "\n",
    "#from puzzlefusion_plusplus.denoiser.dataset.dataset import build_test_dataloader\n",
    "#cfg.denoiser.data.matching_data_path= '/disk2/data/breaking-bad-dataset/data/matching_data'\n",
    "\n",
    "test_loader = build_test_dataloader(cfg.denoiser)"
   ]
  },
  {
   "cell_type": "code",
   "execution_count": 24,
   "id": "5a98a0a5-48ba-43b2-a1cc-396db1031cbd",
   "metadata": {},
   "outputs": [],
   "source": [
    "import importlib\n",
    "import jahn_src.auto_agg_jhahn\n",
    "import jahn_src.verifier_jhahn\n",
    "importlib.reload(jahn_src.verifier_jhahn)\n",
    "importlib.reload(jahn_src.myutil)\n",
    "importlib.reload(jahn_src.auto_agg_jhahn)\n",
    "from jahn_src.auto_agg_jhahn import AutoAgglomerative\n",
    "\n",
    "#import importlib\n",
    "#import puzzlefusion_plusplus.auto_aggl\n",
    "#importlib.reload(puzzlefusion_plusplus.auto_aggl)\n",
    "#from puzzlefusion_plusplus.auto_aggl import AutoAgglomerative"
   ]
  },
  {
   "cell_type": "code",
   "execution_count": 25,
   "id": "9a229a62-5b76-4aa2-8f68-d2ca54b0c240",
   "metadata": {
    "scrolled": true
   },
   "outputs": [
    {
     "ename": "TypeError",
     "evalue": "new(): data must be a sequence (got float)",
     "output_type": "error",
     "traceback": [
      "\u001b[0;31m---------------------------------------------------------------------------\u001b[0m",
      "\u001b[0;31mTypeError\u001b[0m                                 Traceback (most recent call last)",
      "Cell \u001b[0;32mIn[25], line 1\u001b[0m\n\u001b[0;32m----> 1\u001b[0m model \u001b[38;5;241m=\u001b[39m \u001b[43mAutoAgglomerative\u001b[49m\u001b[43m(\u001b[49m\u001b[43mcfg\u001b[49m\u001b[43m)\u001b[49m\n\u001b[1;32m      3\u001b[0m denoiser_weights \u001b[38;5;241m=\u001b[39m torch\u001b[38;5;241m.\u001b[39mload(cfg\u001b[38;5;241m.\u001b[39mdenoiser\u001b[38;5;241m.\u001b[39mckpt_path)[\u001b[38;5;124m'\u001b[39m\u001b[38;5;124mstate_dict\u001b[39m\u001b[38;5;124m'\u001b[39m]\n\u001b[1;32m      5\u001b[0m model\u001b[38;5;241m.\u001b[39mdenoiser\u001b[38;5;241m.\u001b[39mload_state_dict(\n\u001b[1;32m      6\u001b[0m     {k\u001b[38;5;241m.\u001b[39mreplace(\u001b[38;5;124m'\u001b[39m\u001b[38;5;124mdenoiser.\u001b[39m\u001b[38;5;124m'\u001b[39m, \u001b[38;5;124m'\u001b[39m\u001b[38;5;124m'\u001b[39m): v \u001b[38;5;28;01mfor\u001b[39;00m k, v \u001b[38;5;129;01min\u001b[39;00m denoiser_weights\u001b[38;5;241m.\u001b[39mitems() \n\u001b[1;32m      7\u001b[0m      \u001b[38;5;28;01mif\u001b[39;00m k\u001b[38;5;241m.\u001b[39mstartswith(\u001b[38;5;124m'\u001b[39m\u001b[38;5;124mdenoiser.\u001b[39m\u001b[38;5;124m'\u001b[39m)}\n\u001b[1;32m      8\u001b[0m )\n",
      "File \u001b[0;32m~/assemble_slices/jahn_src/auto_agg_jhahn.py:45\u001b[0m, in \u001b[0;36mAutoAgglomerative.__init__\u001b[0;34m(self, cfg)\u001b[0m\n\u001b[1;32m     43\u001b[0m \u001b[38;5;28mself\u001b[39m\u001b[38;5;241m.\u001b[39mdenoiser \u001b[38;5;241m=\u001b[39m DenoiserTransformer(cfg\u001b[38;5;241m.\u001b[39mdenoiser)\n\u001b[1;32m     44\u001b[0m \u001b[38;5;66;03m#self.verifier = VerifierTransformer(cfg.verifier)\u001b[39;00m\n\u001b[0;32m---> 45\u001b[0m \u001b[38;5;28mself\u001b[39m\u001b[38;5;241m.\u001b[39mverifier \u001b[38;5;241m=\u001b[39m \u001b[43mVerifierSliceMatching\u001b[49m\u001b[43m(\u001b[49m\u001b[43m)\u001b[49m\n\u001b[1;32m     46\u001b[0m \u001b[38;5;28mself\u001b[39m\u001b[38;5;241m.\u001b[39mencoder \u001b[38;5;241m=\u001b[39m VQVAE(cfg\u001b[38;5;241m.\u001b[39mae)\n\u001b[1;32m     48\u001b[0m \u001b[38;5;28mself\u001b[39m\u001b[38;5;241m.\u001b[39msave_hyperparameters()\n",
      "File \u001b[0;32m~/assemble_slices/jahn_src/verifier_jhahn.py:10\u001b[0m, in \u001b[0;36mVerifierSliceMatching.__init__\u001b[0;34m(self)\u001b[0m\n\u001b[1;32m      8\u001b[0m \u001b[38;5;28;01mdef\u001b[39;00m\u001b[38;5;250m \u001b[39m\u001b[38;5;21m__init__\u001b[39m(\u001b[38;5;28mself\u001b[39m):\n\u001b[1;32m      9\u001b[0m     \u001b[38;5;28mself\u001b[39m\u001b[38;5;241m.\u001b[39mchamferDist \u001b[38;5;241m=\u001b[39m ChamferDistance()\n\u001b[0;32m---> 10\u001b[0m     \u001b[38;5;28mself\u001b[39m\u001b[38;5;241m.\u001b[39mthreshold \u001b[38;5;241m=\u001b[39m \u001b[43mtorch\u001b[49m\u001b[38;5;241;43m.\u001b[39;49m\u001b[43mFloatTensor\u001b[49m\u001b[43m(\u001b[49m\u001b[38;5;241;43m0.005\u001b[39;49m\u001b[43m)\u001b[49m\n",
      "\u001b[0;31mTypeError\u001b[0m: new(): data must be a sequence (got float)"
     ]
    }
   ],
   "source": [
    "\n",
    "model = AutoAgglomerative(cfg)\n",
    "\n",
    "denoiser_weights = torch.load(cfg.denoiser.ckpt_path)['state_dict']\n",
    "\n",
    "model.denoiser.load_state_dict(\n",
    "    {k.replace('denoiser.', ''): v for k, v in denoiser_weights.items() \n",
    "     if k.startswith('denoiser.')}\n",
    ")\n",
    "\n",
    "model.encoder.load_state_dict(\n",
    "    {k.replace('encoder.', ''): v for k, v in denoiser_weights.items() \n",
    "     if k.startswith('encoder.')}\n",
    ")\n",
    "\n",
    "# load verifier weights    \n",
    "#verifier_weights = torch.load(cfg.verifier.ckpt_path)['state_dict']\n",
    "#model.verifier.load_state_dict({k.replace('verifier.', ''): v for k, v in verifier_weights.items()})\n",
    "\n",
    "\n",
    "trainer = pl.Trainer(accelerator=cfg.accelerator, max_epochs=1, logger=False)\n",
    "trainer.test(model=model, dataloaders=test_loader)\n"
   ]
  },
  {
   "cell_type": "code",
   "execution_count": null,
   "id": "8acfdaf8-912f-4353-8fa1-35f2ad4b334d",
   "metadata": {},
   "outputs": [],
   "source": []
  },
  {
   "cell_type": "code",
   "execution_count": null,
   "id": "9defb7ae-b68e-4b65-8742-7129f4571350",
   "metadata": {},
   "outputs": [],
   "source": []
  },
  {
   "cell_type": "code",
   "execution_count": null,
   "id": "812c46d1-47d4-408d-b2f0-994a2f7b1cb7",
   "metadata": {},
   "outputs": [],
   "source": []
  }
 ],
 "metadata": {
  "kernelspec": {
   "display_name": "slice_env",
   "language": "python",
   "name": "python3"
  },
  "language_info": {
   "codemirror_mode": {
    "name": "ipython",
    "version": 3
   },
   "file_extension": ".py",
   "mimetype": "text/x-python",
   "name": "python",
   "nbconvert_exporter": "python",
   "pygments_lexer": "ipython3",
   "version": "3.10.12"
  }
 },
 "nbformat": 4,
 "nbformat_minor": 5
}
